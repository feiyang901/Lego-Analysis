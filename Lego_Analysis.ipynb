{
 "cells": [
  {
   "cell_type": "markdown",
   "metadata": {
    "colab_type": "text",
    "dc": {
     "key": "1d0b086e6c"
    },
    "id": "s9JLDE8NIquP",
    "run_control": {
     "frozen": true
    },
    "tags": [
     "context"
    ]
   },
   "source": [
    "# Introduction\n",
    "\n",
    "This code can answer the following questions:\n",
    "\n",
    "<ul type=\"square\">\n",
    "<li>What is the most enormous LEGO set ever created and how many parts did it have?</li>\n",
    "\n",
    "<li>How did the LEGO company start out? In which year were the first LEGO sets released and how many sets did the company sell when it first launched?</li>\n",
    "\n",
    "<li>Which LEGO theme has the most sets? Is it one of LEGO's own themes like Ninjago or a theme they licensed liked Harry Potter or Marvel Superheroes?</li>\n",
    "\n",
    "<li>When did the LEGO company really expand its product offering? Can we spot a change in the company strategy based on how many themes and sets did it released year-on-year?</li>\n",
    "\n",
    "<li>Did LEGO sets grow in size and complexity over time? Do older LEGO \n",
    "sets tend to have more or fewer parts than newer sets?</li>\n",
    "</ul>\n",
    "\n",
    "**Data Source**\n",
    "\n",
    "[Rebrickable](https://rebrickable.com/downloads/) has compiled data on all the LEGO pieces in existence. "
   ]
  },
  {
   "cell_type": "markdown",
   "metadata": {},
   "source": [
    "<img src=\"assets/bricks.jpg\">"
   ]
  },
  {
   "cell_type": "markdown",
   "metadata": {
    "colab_type": "text",
    "id": "V0u2lGJuIquQ"
   },
   "source": [
    "# Import Statements"
   ]
  },
  {
   "cell_type": "code",
   "execution_count": 1,
   "metadata": {
    "colab": {},
    "colab_type": "code",
    "id": "z5Wk7rs-IquQ"
   },
   "outputs": [],
   "source": [
    "import pandas as pd\n",
    "import matplotlib.pyplot as plt"
   ]
  },
  {
   "cell_type": "markdown",
   "metadata": {
    "colab_type": "text",
    "id": "R5NQpJ_KIquT"
   },
   "source": [
    "# Data Exploration"
   ]
  },
  {
   "cell_type": "code",
   "execution_count": 9,
   "metadata": {
    "colab": {},
    "colab_type": "code",
    "id": "yd4G9pK7IquU"
   },
   "outputs": [
    {
     "name": "stdout",
     "output_type": "stream",
     "text": [
      "   id            name     rgb is_trans\n",
      "0  -1         Unknown  0033B2        f\n",
      "1   0           Black  05131D        f\n",
      "2   1            Blue  0055BF        f\n",
      "3   2           Green  237841        f\n",
      "4   3  Dark Turquoise  008F9B        f\n",
      "       id                          name     rgb is_trans\n",
      "130  1004  Trans Flame Yellowish Orange  FCB76D        t\n",
      "131  1005             Trans Fire Yellow  FBE890        t\n",
      "132  1006        Trans Light Royal Blue  B4D4F7        t\n",
      "133  1007                 Reddish Lilac  8E5597        f\n",
      "134  9999                    [No Color]  05131D        f\n"
     ]
    },
    {
     "data": {
      "text/plain": [
       "(135, 4)"
      ]
     },
     "execution_count": 9,
     "metadata": {},
     "output_type": "execute_result"
    }
   ],
   "source": [
    "df=pd.read_csv('data/colors.csv')\n",
    "print(df.head())\n",
    "print(df.tail())\n",
    "df.shape"
   ]
  },
  {
   "cell_type": "code",
   "execution_count": 13,
   "metadata": {
    "colab": {},
    "colab_type": "code",
    "dc": {
     "key": "044b2cef41"
    },
    "id": "QmbAXax7IquW",
    "tags": [
     "sample_code"
    ]
   },
   "outputs": [
    {
     "data": {
      "text/plain": [
       "id          135\n",
       "name        135\n",
       "rgb         124\n",
       "is_trans      2\n",
       "dtype: int64"
      ]
     },
     "execution_count": 13,
     "metadata": {},
     "output_type": "execute_result"
    }
   ],
   "source": [
    "df.nunique(axis=0)"
   ]
  },
  {
   "cell_type": "code",
   "execution_count": 14,
   "metadata": {
    "colab": {},
    "colab_type": "code",
    "id": "1UZrfq82Iqub"
   },
   "outputs": [
    {
     "name": "stdout",
     "output_type": "stream",
     "text": [
      "28\n",
      "107\n"
     ]
    }
   ],
   "source": [
    "count_t=0\n",
    "count_f=0\n",
    "for i in df['is_trans']:\n",
    "    if i==\"t\":\n",
    "        count_t+=1\n",
    "    else:\n",
    "        count_f+=1\n",
    "print(count_t)\n",
    "print(count_f)"
   ]
  },
  {
   "cell_type": "markdown",
   "metadata": {
    "colab_type": "text",
    "id": "TMqdhUYcusfy"
   },
   "source": [
    "<h3>Understanding LEGO Themes vs. LEGO Sets<h3>"
   ]
  },
  {
   "cell_type": "markdown",
   "metadata": {
    "colab_type": "text",
    "id": "y0kxCh63uwOv"
   },
   "source": [
    "Walk into a LEGO store and you will see their products organised by theme. Their themes include Star Wars, Batman, Harry Potter and many more.\n",
    "<img src=\"assets/lego_themes.png\">\n"
   ]
  },
  {
   "cell_type": "markdown",
   "metadata": {
    "colab_type": "text",
    "dc": {
     "key": "c9d0e58653"
    },
    "id": "u_xkZUF8Iqug",
    "run_control": {
     "frozen": true
    },
    "tags": [
     "context"
    ]
   },
   "source": [
    "A lego set is a particular box of LEGO or product. Therefore, a single theme typically has many different sets.\n",
    "<img src=\"assets/lego_sets.png\">\n"
   ]
  },
  {
   "cell_type": "markdown",
   "metadata": {
    "colab_type": "text",
    "id": "jJTAROe5unkx"
   },
   "source": [
    "The <code>sets.csv</code> data contains a list of sets over the years and the number of parts that each of these sets contained.\n",
    "\n",
    " "
   ]
  },
  {
   "cell_type": "code",
   "execution_count": 15,
   "metadata": {
    "colab": {},
    "colab_type": "code",
    "id": "vGMOv-NRIquh"
   },
   "outputs": [],
   "source": [
    "sets_df=pd.read_csv(\"data/sets.csv\")"
   ]
  },
  {
   "cell_type": "code",
   "execution_count": 16,
   "metadata": {
    "colab": {},
    "colab_type": "code",
    "id": "T3lLFvyZIqui"
   },
   "outputs": [
    {
     "data": {
      "text/html": [
       "<div>\n",
       "<style scoped>\n",
       "    .dataframe tbody tr th:only-of-type {\n",
       "        vertical-align: middle;\n",
       "    }\n",
       "\n",
       "    .dataframe tbody tr th {\n",
       "        vertical-align: top;\n",
       "    }\n",
       "\n",
       "    .dataframe thead th {\n",
       "        text-align: right;\n",
       "    }\n",
       "</style>\n",
       "<table border=\"1\" class=\"dataframe\">\n",
       "  <thead>\n",
       "    <tr style=\"text-align: right;\">\n",
       "      <th></th>\n",
       "      <th>set_num</th>\n",
       "      <th>name</th>\n",
       "      <th>year</th>\n",
       "      <th>theme_id</th>\n",
       "      <th>num_parts</th>\n",
       "    </tr>\n",
       "  </thead>\n",
       "  <tbody>\n",
       "    <tr>\n",
       "      <th>0</th>\n",
       "      <td>001-1</td>\n",
       "      <td>Gears</td>\n",
       "      <td>1965</td>\n",
       "      <td>1</td>\n",
       "      <td>43</td>\n",
       "    </tr>\n",
       "    <tr>\n",
       "      <th>1</th>\n",
       "      <td>0011-2</td>\n",
       "      <td>Town Mini-Figures</td>\n",
       "      <td>1978</td>\n",
       "      <td>84</td>\n",
       "      <td>12</td>\n",
       "    </tr>\n",
       "    <tr>\n",
       "      <th>2</th>\n",
       "      <td>0011-3</td>\n",
       "      <td>Castle 2 for 1 Bonus Offer</td>\n",
       "      <td>1987</td>\n",
       "      <td>199</td>\n",
       "      <td>0</td>\n",
       "    </tr>\n",
       "    <tr>\n",
       "      <th>3</th>\n",
       "      <td>0012-1</td>\n",
       "      <td>Space Mini-Figures</td>\n",
       "      <td>1979</td>\n",
       "      <td>143</td>\n",
       "      <td>12</td>\n",
       "    </tr>\n",
       "    <tr>\n",
       "      <th>4</th>\n",
       "      <td>0013-1</td>\n",
       "      <td>Space Mini-Figures</td>\n",
       "      <td>1979</td>\n",
       "      <td>143</td>\n",
       "      <td>12</td>\n",
       "    </tr>\n",
       "  </tbody>\n",
       "</table>\n",
       "</div>"
      ],
      "text/plain": [
       "  set_num                        name  year  theme_id  num_parts\n",
       "0   001-1                       Gears  1965         1         43\n",
       "1  0011-2           Town Mini-Figures  1978        84         12\n",
       "2  0011-3  Castle 2 for 1 Bonus Offer  1987       199          0\n",
       "3  0012-1          Space Mini-Figures  1979       143         12\n",
       "4  0013-1          Space Mini-Figures  1979       143         12"
      ]
     },
     "execution_count": 16,
     "metadata": {},
     "output_type": "execute_result"
    }
   ],
   "source": [
    "sets_df.head()"
   ]
  },
  {
   "cell_type": "code",
   "execution_count": 17,
   "metadata": {
    "colab": {},
    "colab_type": "code",
    "id": "XprDBmzwIquk"
   },
   "outputs": [
    {
     "data": {
      "text/html": [
       "<div>\n",
       "<style scoped>\n",
       "    .dataframe tbody tr th:only-of-type {\n",
       "        vertical-align: middle;\n",
       "    }\n",
       "\n",
       "    .dataframe tbody tr th {\n",
       "        vertical-align: top;\n",
       "    }\n",
       "\n",
       "    .dataframe thead th {\n",
       "        text-align: right;\n",
       "    }\n",
       "</style>\n",
       "<table border=\"1\" class=\"dataframe\">\n",
       "  <thead>\n",
       "    <tr style=\"text-align: right;\">\n",
       "      <th></th>\n",
       "      <th>set_num</th>\n",
       "      <th>name</th>\n",
       "      <th>year</th>\n",
       "      <th>theme_id</th>\n",
       "      <th>num_parts</th>\n",
       "    </tr>\n",
       "  </thead>\n",
       "  <tbody>\n",
       "    <tr>\n",
       "      <th>15705</th>\n",
       "      <td>wwgp1-1</td>\n",
       "      <td>Wild West Limited Edition Gift Pack</td>\n",
       "      <td>1996</td>\n",
       "      <td>476</td>\n",
       "      <td>0</td>\n",
       "    </tr>\n",
       "    <tr>\n",
       "      <th>15706</th>\n",
       "      <td>XMASTREE-1</td>\n",
       "      <td>Christmas Tree</td>\n",
       "      <td>2019</td>\n",
       "      <td>410</td>\n",
       "      <td>26</td>\n",
       "    </tr>\n",
       "    <tr>\n",
       "      <th>15707</th>\n",
       "      <td>XWING-1</td>\n",
       "      <td>Mini X-Wing Fighter</td>\n",
       "      <td>2019</td>\n",
       "      <td>158</td>\n",
       "      <td>60</td>\n",
       "    </tr>\n",
       "    <tr>\n",
       "      <th>15708</th>\n",
       "      <td>XWING-2</td>\n",
       "      <td>X-Wing Trench Run</td>\n",
       "      <td>2019</td>\n",
       "      <td>158</td>\n",
       "      <td>52</td>\n",
       "    </tr>\n",
       "    <tr>\n",
       "      <th>15709</th>\n",
       "      <td>YODACHRON-1</td>\n",
       "      <td>Yoda Chronicles Promotional Set</td>\n",
       "      <td>2013</td>\n",
       "      <td>158</td>\n",
       "      <td>413</td>\n",
       "    </tr>\n",
       "  </tbody>\n",
       "</table>\n",
       "</div>"
      ],
      "text/plain": [
       "           set_num                                 name  year  theme_id  \\\n",
       "15705      wwgp1-1  Wild West Limited Edition Gift Pack  1996       476   \n",
       "15706   XMASTREE-1                       Christmas Tree  2019       410   \n",
       "15707      XWING-1                  Mini X-Wing Fighter  2019       158   \n",
       "15708      XWING-2                    X-Wing Trench Run  2019       158   \n",
       "15709  YODACHRON-1      Yoda Chronicles Promotional Set  2013       158   \n",
       "\n",
       "       num_parts  \n",
       "15705          0  \n",
       "15706         26  \n",
       "15707         60  \n",
       "15708         52  \n",
       "15709        413  "
      ]
     },
     "execution_count": 17,
     "metadata": {},
     "output_type": "execute_result"
    }
   ],
   "source": [
    "sets_df.tail()"
   ]
  },
  {
   "cell_type": "code",
   "execution_count": 25,
   "metadata": {
    "colab": {},
    "colab_type": "code",
    "id": "s2aL6qrGIqum"
   },
   "outputs": [
    {
     "name": "stdout",
     "output_type": "stream",
     "text": [
      "       set_num                               name  year  theme_id  num_parts\n",
      "9521   700.1-1         Extra-Large Gift Set (ABB)  1949       365        142\n",
      "9534   700.2-1               Large Gift Set (ABB)  1949       365        178\n",
      "9539   700.3-1              Medium Gift Set (ABB)  1949       365        142\n",
      "9544   700.A-1              Small Brick Set (ABB)  1949       371         24\n",
      "9545   700.B-1  Small Doors and Windows Set (ABB)  1949       371         12\n",
      "...        ...                                ...   ...       ...        ...\n",
      "11289  75290-1                 Mos Eisley Cantina  2020       158          0\n",
      "5147   41430-1              Summer Fun Water Park  2020       494       1012\n",
      "11337  75550-1             Minions Kung Fu Battle  2021       689          0\n",
      "11335  75547-1           Minion Pilot in Training  2021       689          0\n",
      "11334  75546-1               Minions in Gru’s Lab  2021       689          0\n",
      "\n",
      "[15710 rows x 5 columns]\n"
     ]
    }
   ],
   "source": [
    "sort_set_df=sets_df.sort_values('year')\n",
    "print(sort_set_df)"
   ]
  },
  {
   "cell_type": "code",
   "execution_count": 28,
   "metadata": {
    "colab": {},
    "colab_type": "code",
    "id": "h-Tf1w7IBBg9"
   },
   "outputs": [
    {
     "name": "stdout",
     "output_type": "stream",
     "text": [
      "                           set_num  year  theme_id  num_parts\n",
      "name                                                         \n",
      " Spectre                         1     1         1          1\n",
      "'Where Are My Pants?' Guy        1     1         1          1\n",
      "(Me and My) Birthday             1     1         1          1\n",
      "(Patty's) Pony Stable            1     1         1          1\n",
      "1 stud Blue Storage Brick        1     1         1          1\n",
      "...                            ...   ...       ...        ...\n",
      "{Aeroplane}                      1     1         1          1\n",
      "{Basic Promotional Set}          6     6         6          6\n",
      "{Ducks}                          1     1         1          1\n",
      "{Red Race Car Number 3}          1     1         1          1\n",
      "{Roadplates and Scenery}         1     1         1          1\n",
      "\n",
      "[13437 rows x 4 columns]\n"
     ]
    },
    {
     "data": {
      "text/html": [
       "<div>\n",
       "<style scoped>\n",
       "    .dataframe tbody tr th:only-of-type {\n",
       "        vertical-align: middle;\n",
       "    }\n",
       "\n",
       "    .dataframe tbody tr th {\n",
       "        vertical-align: top;\n",
       "    }\n",
       "\n",
       "    .dataframe thead th {\n",
       "        text-align: right;\n",
       "    }\n",
       "</style>\n",
       "<table border=\"1\" class=\"dataframe\">\n",
       "  <thead>\n",
       "    <tr style=\"text-align: right;\">\n",
       "      <th></th>\n",
       "      <th>set_num</th>\n",
       "      <th>name</th>\n",
       "      <th>theme_id</th>\n",
       "      <th>num_parts</th>\n",
       "    </tr>\n",
       "    <tr>\n",
       "      <th>year</th>\n",
       "      <th></th>\n",
       "      <th></th>\n",
       "      <th></th>\n",
       "      <th></th>\n",
       "    </tr>\n",
       "  </thead>\n",
       "  <tbody>\n",
       "    <tr>\n",
       "      <th>1949</th>\n",
       "      <td>5</td>\n",
       "      <td>5</td>\n",
       "      <td>5</td>\n",
       "      <td>5</td>\n",
       "    </tr>\n",
       "    <tr>\n",
       "      <th>1950</th>\n",
       "      <td>6</td>\n",
       "      <td>6</td>\n",
       "      <td>6</td>\n",
       "      <td>6</td>\n",
       "    </tr>\n",
       "    <tr>\n",
       "      <th>1953</th>\n",
       "      <td>4</td>\n",
       "      <td>4</td>\n",
       "      <td>4</td>\n",
       "      <td>4</td>\n",
       "    </tr>\n",
       "    <tr>\n",
       "      <th>1954</th>\n",
       "      <td>14</td>\n",
       "      <td>14</td>\n",
       "      <td>14</td>\n",
       "      <td>14</td>\n",
       "    </tr>\n",
       "    <tr>\n",
       "      <th>1955</th>\n",
       "      <td>28</td>\n",
       "      <td>28</td>\n",
       "      <td>28</td>\n",
       "      <td>28</td>\n",
       "    </tr>\n",
       "    <tr>\n",
       "      <th>...</th>\n",
       "      <td>...</td>\n",
       "      <td>...</td>\n",
       "      <td>...</td>\n",
       "      <td>...</td>\n",
       "    </tr>\n",
       "    <tr>\n",
       "      <th>2017</th>\n",
       "      <td>786</td>\n",
       "      <td>786</td>\n",
       "      <td>786</td>\n",
       "      <td>786</td>\n",
       "    </tr>\n",
       "    <tr>\n",
       "      <th>2018</th>\n",
       "      <td>816</td>\n",
       "      <td>816</td>\n",
       "      <td>816</td>\n",
       "      <td>816</td>\n",
       "    </tr>\n",
       "    <tr>\n",
       "      <th>2019</th>\n",
       "      <td>840</td>\n",
       "      <td>840</td>\n",
       "      <td>840</td>\n",
       "      <td>840</td>\n",
       "    </tr>\n",
       "    <tr>\n",
       "      <th>2020</th>\n",
       "      <td>674</td>\n",
       "      <td>674</td>\n",
       "      <td>674</td>\n",
       "      <td>674</td>\n",
       "    </tr>\n",
       "    <tr>\n",
       "      <th>2021</th>\n",
       "      <td>3</td>\n",
       "      <td>3</td>\n",
       "      <td>3</td>\n",
       "      <td>3</td>\n",
       "    </tr>\n",
       "  </tbody>\n",
       "</table>\n",
       "<p>71 rows × 4 columns</p>\n",
       "</div>"
      ],
      "text/plain": [
       "      set_num  name  theme_id  num_parts\n",
       "year                                    \n",
       "1949        5     5         5          5\n",
       "1950        6     6         6          6\n",
       "1953        4     4         4          4\n",
       "1954       14    14        14         14\n",
       "1955       28    28        28         28\n",
       "...       ...   ...       ...        ...\n",
       "2017      786   786       786        786\n",
       "2018      816   816       816        816\n",
       "2019      840   840       840        840\n",
       "2020      674   674       674        674\n",
       "2021        3     3         3          3\n",
       "\n",
       "[71 rows x 4 columns]"
      ]
     },
     "execution_count": 28,
     "metadata": {},
     "output_type": "execute_result"
    }
   ],
   "source": [
    "group_by_name=sort_set_df.groupby('name').count()\n",
    "print(sort_by_name)\n",
    "sort_set_df.groupby('year').count()"
   ]
  },
  {
   "cell_type": "code",
   "execution_count": 29,
   "metadata": {
    "colab": {},
    "colab_type": "code",
    "id": "toJvjRuQIqup"
   },
   "outputs": [
    {
     "name": "stdout",
     "output_type": "stream",
     "text": [
      "        set_num                           name  year  theme_id  num_parts\n",
      "15004  BIGBOX-1  The Ultimate Battle for Chima  2015       571       9987\n",
      "11183   75192-1          UCS Millennium Falcon  2017       171       7541\n",
      "10551   71043-1                Hogwarts Castle  2018       246       6020\n",
      "295     10256-1                      Taj Mahal  2017       673       5923\n",
      "221     10189-1                      Taj Mahal  2008       673       5922\n"
     ]
    }
   ],
   "source": [
    "sort_num_parts=sets_df.sort_values('num_parts',ascending=False)\n",
    "print(sort_num_parts.head())"
   ]
  },
  {
   "cell_type": "code",
   "execution_count": 31,
   "metadata": {
    "colab": {},
    "colab_type": "code",
    "id": "qjdrktZAIqus",
    "scrolled": true
   },
   "outputs": [
    {
     "name": "stdout",
     "output_type": "stream",
     "text": [
      "      set_num  name  theme_id  num_parts\n",
      "year                                    \n",
      "1949        5     5         5          5\n",
      "1950        6     6         6          6\n",
      "1953        4     4         4          4\n",
      "1954       14    14        14         14\n",
      "1955       28    28        28         28\n",
      "...       ...   ...       ...        ...\n",
      "2017      786   786       786        786\n",
      "2018      816   816       816        816\n",
      "2019      840   840       840        840\n",
      "2020      674   674       674        674\n",
      "2021        3     3         3          3\n",
      "\n",
      "[71 rows x 4 columns]\n"
     ]
    }
   ],
   "source": [
    "sort_by_year=sort_set_df.groupby('year').count()\n",
    "print(sort_by_year)"
   ]
  },
  {
   "cell_type": "code",
   "execution_count": 40,
   "metadata": {
    "colab": {},
    "colab_type": "code",
    "id": "tFInsHOkIqut"
   },
   "outputs": [
    {
     "name": "stdout",
     "output_type": "stream",
     "text": [
      "set_num      28\n",
      "name         28\n",
      "year         28\n",
      "theme_id     28\n",
      "num_parts    28\n",
      "dtype: int64\n"
     ]
    },
    {
     "data": {
      "text/plain": [
       "set_num      840\n",
       "name         840\n",
       "year         840\n",
       "theme_id     840\n",
       "num_parts    840\n",
       "dtype: int64"
      ]
     },
     "execution_count": 40,
     "metadata": {},
     "output_type": "execute_result"
    }
   ],
   "source": [
    "print(sets_df[sets_df['year']==1955].count())\n",
    "sets_df[sets_df['year']==2019].count()"
   ]
  },
  {
   "cell_type": "code",
   "execution_count": 41,
   "metadata": {
    "colab": {},
    "colab_type": "code",
    "id": "Nckj4lSGIquw"
   },
   "outputs": [
    {
     "data": {
      "text/plain": [
       "year\n",
       "1949     5\n",
       "1950     6\n",
       "1953     4\n",
       "1954    14\n",
       "1955    28\n",
       "Name: set_num, dtype: int64"
      ]
     },
     "execution_count": 41,
     "metadata": {},
     "output_type": "execute_result"
    }
   ],
   "source": [
    "sort_by_year['set_num'].head()\n"
   ]
  },
  {
   "cell_type": "code",
   "execution_count": 48,
   "metadata": {
    "colab": {},
    "colab_type": "code",
    "id": "_ZqAN-5MIquz"
   },
   "outputs": [
    {
     "name": "stderr",
     "output_type": "stream",
     "text": [
      "C:\\Users\\ybxu\\AppData\\Local\\Temp\\ipykernel_10996\\4255842710.py:1: FutureWarning: The behavior of `series[i:j]` with an integer-dtype index is deprecated. In a future version, this will be treated as *label-based* indexing, consistent with e.g. `series[i]` lookups. To retain the old behavior, use `series.iloc[i:j]`. To get the future behavior, use `series.loc[i:j]`.\n",
      "  plt.plot(sort_by_year.index[:-2], sort_by_year['set_num'][:-2])\n"
     ]
    },
    {
     "data": {
      "text/plain": [
       "[<matplotlib.lines.Line2D at 0x1f9d4c09490>]"
      ]
     },
     "execution_count": 48,
     "metadata": {},
     "output_type": "execute_result"
    },
    {
     "data": {
      "image/png": "[encoded data removed]",
      "text/plain": [
       "<Figure size 640x480 with 1 Axes>"
      ]
     },
     "metadata": {},
     "output_type": "display_data"
    }
   ],
   "source": [
    "\n",
    "plt.plot(sort_by_year.index[:-2], sort_by_year['set_num'][:-2])\n"
   ]
  },
  {
   "cell_type": "markdown",
   "metadata": {
    "colab_type": "text",
    "id": "xrDeNYYXIqu1"
   },
   "source": [
    "### Aggregate Data with the Python .agg() Function\n",
    "\n",
    "Let's work out the number of different themes shipped by year. This means we have to count the number of unique theme_ids per calendar year."
   ]
  },
  {
   "cell_type": "code",
   "execution_count": 49,
   "metadata": {
    "colab": {},
    "colab_type": "code",
    "dc": {
     "key": "266a3f390c"
    },
    "id": "qx8pTau4Iqu2",
    "tags": [
     "sample_code"
    ]
   },
   "outputs": [],
   "source": [
    "themes_by_year=sets_df.groupby('year').agg({'theme_id': pd.Series.nunique})"
   ]
  },
  {
   "cell_type": "code",
   "execution_count": 52,
   "metadata": {
    "colab": {},
    "colab_type": "code",
    "id": "BqF1o997Iqu3"
   },
   "outputs": [
    {
     "name": "stdout",
     "output_type": "stream",
     "text": [
      "      nr_themes\n",
      "year           \n",
      "1949          2\n",
      "1950          1\n",
      "1953          2\n",
      "1954          2\n",
      "1955          4\n"
     ]
    },
    {
     "data": {
      "text/html": [
       "<div>\n",
       "<style scoped>\n",
       "    .dataframe tbody tr th:only-of-type {\n",
       "        vertical-align: middle;\n",
       "    }\n",
       "\n",
       "    .dataframe tbody tr th {\n",
       "        vertical-align: top;\n",
       "    }\n",
       "\n",
       "    .dataframe thead th {\n",
       "        text-align: right;\n",
       "    }\n",
       "</style>\n",
       "<table border=\"1\" class=\"dataframe\">\n",
       "  <thead>\n",
       "    <tr style=\"text-align: right;\">\n",
       "      <th></th>\n",
       "      <th>nr_themes</th>\n",
       "    </tr>\n",
       "    <tr>\n",
       "      <th>year</th>\n",
       "      <th></th>\n",
       "    </tr>\n",
       "  </thead>\n",
       "  <tbody>\n",
       "    <tr>\n",
       "      <th>2017</th>\n",
       "      <td>89</td>\n",
       "    </tr>\n",
       "    <tr>\n",
       "      <th>2018</th>\n",
       "      <td>93</td>\n",
       "    </tr>\n",
       "    <tr>\n",
       "      <th>2019</th>\n",
       "      <td>78</td>\n",
       "    </tr>\n",
       "    <tr>\n",
       "      <th>2020</th>\n",
       "      <td>82</td>\n",
       "    </tr>\n",
       "    <tr>\n",
       "      <th>2021</th>\n",
       "      <td>1</td>\n",
       "    </tr>\n",
       "  </tbody>\n",
       "</table>\n",
       "</div>"
      ],
      "text/plain": [
       "      nr_themes\n",
       "year           \n",
       "2017         89\n",
       "2018         93\n",
       "2019         78\n",
       "2020         82\n",
       "2021          1"
      ]
     },
     "execution_count": 52,
     "metadata": {},
     "output_type": "execute_result"
    }
   ],
   "source": [
    "themes_by_year.rename(columns={'theme_id':'nr_themes'}, inplace=True)\n",
    "print(themes_by_year.head())\n",
    "themes_by_year.tail()"
   ]
  },
  {
   "cell_type": "code",
   "execution_count": 53,
   "metadata": {
    "colab": {},
    "colab_type": "code",
    "id": "r2pamQEkIqu5"
   },
   "outputs": [
    {
     "name": "stderr",
     "output_type": "stream",
     "text": [
      "C:\\Users\\ybxu\\AppData\\Local\\Temp\\ipykernel_10996\\220444057.py:1: FutureWarning: The behavior of `series[i:j]` with an integer-dtype index is deprecated. In a future version, this will be treated as *label-based* indexing, consistent with e.g. `series[i]` lookups. To retain the old behavior, use `series.iloc[i:j]`. To get the future behavior, use `series.loc[i:j]`.\n",
      "  plt.plot(themes_by_year.index[:-2], themes_by_year['nr_themes'][:-2])\n"
     ]
    },
    {
     "data": {
      "text/plain": [
       "[<matplotlib.lines.Line2D at 0x1f9d4c758d0>]"
      ]
     },
     "execution_count": 53,
     "metadata": {},
     "output_type": "execute_result"
    },
    {
     "data": {
      "image/png": "[encoded data removed]",
      "text/plain": [
       "<Figure size 640x480 with 1 Axes>"
      ]
     },
     "metadata": {},
     "output_type": "display_data"
    }
   ],
   "source": [
    "plt.plot(themes_by_year.index[:-2], themes_by_year['nr_themes'][:-2])"
   ]
  },
  {
   "cell_type": "markdown",
   "metadata": {
    "colab_type": "text",
    "id": "uBbt9-lJIqu7"
   },
   "source": [
    "### Line Charts with Two Seperate Axes"
   ]
  },
  {
   "cell_type": "code",
   "execution_count": 59,
   "metadata": {
    "colab": {},
    "colab_type": "code",
    "id": "j7lQ_amFIqu7"
   },
   "outputs": [
    {
     "name": "stderr",
     "output_type": "stream",
     "text": [
      "C:\\Users\\ybxu\\AppData\\Local\\Temp\\ipykernel_10996\\663800282.py:3: FutureWarning: The behavior of `series[i:j]` with an integer-dtype index is deprecated. In a future version, this will be treated as *label-based* indexing, consistent with e.g. `series[i]` lookups. To retain the old behavior, use `series.iloc[i:j]`. To get the future behavior, use `series.loc[i:j]`.\n",
      "  ax1.plot(sort_by_year.index[:-2], sort_by_year['set_num'][:-2], color='green')\n",
      "C:\\Users\\ybxu\\AppData\\Local\\Temp\\ipykernel_10996\\663800282.py:4: FutureWarning: The behavior of `series[i:j]` with an integer-dtype index is deprecated. In a future version, this will be treated as *label-based* indexing, consistent with e.g. `series[i]` lookups. To retain the old behavior, use `series.iloc[i:j]`. To get the future behavior, use `series.loc[i:j]`.\n",
      "  ax2.plot(themes_by_year.index[:-2], themes_by_year['nr_themes'][:-2], color='blue')\n"
     ]
    },
    {
     "data": {
      "text/plain": [
       "Text(0, 0.5, 'Number of themes')"
      ]
     },
     "execution_count": 59,
     "metadata": {},
     "output_type": "execute_result"
    },
    {
     "data": {
      "image/png": "[encoded data removed]",
      "text/plain": [
       "<Figure size 640x480 with 2 Axes>"
      ]
     },
     "metadata": {},
     "output_type": "display_data"
    }
   ],
   "source": [
    "ax1=plt.gca()\n",
    "ax2=ax1.twinx()\n",
    "ax1.plot(sort_by_year.index[:-2], sort_by_year['set_num'][:-2], color='green')\n",
    "ax2.plot(themes_by_year.index[:-2], themes_by_year['nr_themes'][:-2], color='blue')\n",
    "ax1.set_xlabel('Year')\n",
    "ax1.set_ylabel('Number of sets')\n",
    "ax2.set_ylabel('Number of themes')"
   ]
  },
  {
   "cell_type": "code",
   "execution_count": 60,
   "metadata": {
    "colab": {},
    "colab_type": "code",
    "id": "W7BcH9vuIqu9"
   },
   "outputs": [],
   "source": [
    "parts_per_set=sets_df.groupby('year').agg({'num_parts': pd.Series.mean})"
   ]
  },
  {
   "cell_type": "code",
   "execution_count": 65,
   "metadata": {
    "colab": {},
    "colab_type": "code",
    "id": "fjbb3tZcIqu_"
   },
   "outputs": [
    {
     "name": "stdout",
     "output_type": "stream",
     "text": [
      "       num_parts\n",
      "year            \n",
      "1949   99.600000\n",
      "1950    1.000000\n",
      "1953   13.500000\n",
      "1954   12.357143\n",
      "1955   36.607143\n",
      "...          ...\n",
      "2017  221.840967\n",
      "2018  213.618873\n",
      "2019  207.510714\n",
      "2020  259.732938\n",
      "2021    0.000000\n",
      "\n",
      "[71 rows x 1 columns]\n"
     ]
    }
   ],
   "source": [
    "print(parts_per_set)"
   ]
  },
  {
   "cell_type": "markdown",
   "metadata": {
    "colab_type": "text",
    "id": "bAeTe2XqIqvB"
   },
   "source": [
    "### Scatter Plots in Matplotlib"
   ]
  },
  {
   "cell_type": "code",
   "execution_count": 70,
   "metadata": {
    "colab": {},
    "colab_type": "code",
    "id": "EQNZ0D7JIqvB"
   },
   "outputs": [
    {
     "name": "stderr",
     "output_type": "stream",
     "text": [
      "C:\\Users\\ybxu\\AppData\\Local\\Temp\\ipykernel_10996\\3738618013.py:1: FutureWarning: The behavior of `series[i:j]` with an integer-dtype index is deprecated. In a future version, this will be treated as *label-based* indexing, consistent with e.g. `series[i]` lookups. To retain the old behavior, use `series.iloc[i:j]`. To get the future behavior, use `series.loc[i:j]`.\n",
      "  plt.scatter(parts_per_set.index[:-2], parts_per_set['num_parts'][:-2])\n"
     ]
    },
    {
     "data": {
      "text/plain": [
       "<matplotlib.collections.PathCollection at 0x1f9d83d1fd0>"
      ]
     },
     "execution_count": 70,
     "metadata": {},
     "output_type": "execute_result"
    },
    {
     "data": {
      "image/png": "[encoded data removed]",
      "text/plain": [
       "<Figure size 640x480 with 1 Axes>"
      ]
     },
     "metadata": {},
     "output_type": "display_data"
    }
   ],
   "source": [
    "plt.scatter(parts_per_set.index[:-2], parts_per_set['num_parts'][:-2])"
   ]
  },
  {
   "cell_type": "markdown",
   "metadata": {
    "colab_type": "text",
    "id": "xK226Ip-IqvE"
   },
   "source": [
    "### Number of Sets per LEGO Theme"
   ]
  },
  {
   "cell_type": "markdown",
   "metadata": {
    "colab_type": "text",
    "id": "VKHa1FePIqvE"
   },
   "source": [
    "LEGO has licensed many hit franchises from Harry Potter to Marvel Super Heros to many others. But which theme has the largest number of individual sets? "
   ]
  },
  {
   "cell_type": "code",
   "execution_count": 71,
   "metadata": {
    "colab": {},
    "colab_type": "code",
    "id": "hOBcNrC9IqvE"
   },
   "outputs": [
    {
     "data": {
      "text/plain": [
       "158    753\n",
       "501    656\n",
       "494    398\n",
       "435    356\n",
       "503    329\n",
       "Name: theme_id, dtype: int64"
      ]
     },
     "execution_count": 71,
     "metadata": {},
     "output_type": "execute_result"
    }
   ],
   "source": [
    "set_theme_count=sets_df['theme_id'].value_counts()\n",
    "set_theme_count.head()"
   ]
  },
  {
   "cell_type": "markdown",
   "metadata": {
    "colab_type": "text",
    "id": "J_0iuerKIqvG"
   },
   "source": [
    "### Database Schemas, Foreign Keys and Merging DataFrames\n",
    "\n",
    "The themes.csv file has the actual theme names. The sets .csv has <code>theme_ids</code> which link to the <code>id</code> column in the themes.csv. "
   ]
  },
  {
   "cell_type": "code",
   "execution_count": 74,
   "metadata": {
    "colab": {},
    "colab_type": "code",
    "id": "3uN3wN5sIqvH"
   },
   "outputs": [
    {
     "name": "stdout",
     "output_type": "stream",
     "text": [
      "   id            name  parent_id\n",
      "0   1         Technic        NaN\n",
      "1   2  Arctic Technic        1.0\n",
      "2   3     Competition        1.0\n",
      "3   4  Expert Builder        1.0\n",
      "4   5           Model        1.0\n"
     ]
    },
    {
     "data": {
      "text/plain": [
       "(596, 3)"
      ]
     },
     "execution_count": 74,
     "metadata": {},
     "output_type": "execute_result"
    }
   ],
   "source": [
    "themes_df=pd.read_csv('data/themes.csv')\n",
    "print(themes_df.head())\n",
    "themes_df.shape"
   ]
  },
  {
   "cell_type": "code",
   "execution_count": 92,
   "metadata": {
    "colab": {},
    "colab_type": "code",
    "id": "xAO2XlQGIqvJ"
   },
   "outputs": [
    {
     "data": {
      "text/html": [
       "<div>\n",
       "<style scoped>\n",
       "    .dataframe tbody tr th:only-of-type {\n",
       "        vertical-align: middle;\n",
       "    }\n",
       "\n",
       "    .dataframe tbody tr th {\n",
       "        vertical-align: top;\n",
       "    }\n",
       "\n",
       "    .dataframe thead th {\n",
       "        text-align: right;\n",
       "    }\n",
       "</style>\n",
       "<table border=\"1\" class=\"dataframe\">\n",
       "  <thead>\n",
       "    <tr style=\"text-align: right;\">\n",
       "      <th></th>\n",
       "      <th>id</th>\n",
       "      <th>name</th>\n",
       "      <th>parent_id</th>\n",
       "    </tr>\n",
       "  </thead>\n",
       "  <tbody>\n",
       "    <tr>\n",
       "      <th>17</th>\n",
       "      <td>18</td>\n",
       "      <td>Star Wars</td>\n",
       "      <td>1.0</td>\n",
       "    </tr>\n",
       "    <tr>\n",
       "      <th>150</th>\n",
       "      <td>158</td>\n",
       "      <td>Star Wars</td>\n",
       "      <td>NaN</td>\n",
       "    </tr>\n",
       "    <tr>\n",
       "      <th>174</th>\n",
       "      <td>209</td>\n",
       "      <td>Star Wars</td>\n",
       "      <td>207.0</td>\n",
       "    </tr>\n",
       "    <tr>\n",
       "      <th>211</th>\n",
       "      <td>261</td>\n",
       "      <td>Star Wars</td>\n",
       "      <td>258.0</td>\n",
       "    </tr>\n",
       "  </tbody>\n",
       "</table>\n",
       "</div>"
      ],
      "text/plain": [
       "      id       name  parent_id\n",
       "17    18  Star Wars        1.0\n",
       "150  158  Star Wars        NaN\n",
       "174  209  Star Wars      207.0\n",
       "211  261  Star Wars      258.0"
      ]
     },
     "execution_count": 92,
     "metadata": {},
     "output_type": "execute_result"
    }
   ],
   "source": [
    "themes_df[themes_df.name=='Star Wars']\n"
   ]
  },
  {
   "cell_type": "code",
   "execution_count": 94,
   "metadata": {
    "colab": {},
    "colab_type": "code",
    "id": "xYEDlY-_IqvL"
   },
   "outputs": [
    {
     "data": {
      "text/html": [
       "<div>\n",
       "<style scoped>\n",
       "    .dataframe tbody tr th:only-of-type {\n",
       "        vertical-align: middle;\n",
       "    }\n",
       "\n",
       "    .dataframe tbody tr th {\n",
       "        vertical-align: top;\n",
       "    }\n",
       "\n",
       "    .dataframe thead th {\n",
       "        text-align: right;\n",
       "    }\n",
       "</style>\n",
       "<table border=\"1\" class=\"dataframe\">\n",
       "  <thead>\n",
       "    <tr style=\"text-align: right;\">\n",
       "      <th></th>\n",
       "      <th>set_num</th>\n",
       "      <th>name</th>\n",
       "      <th>year</th>\n",
       "      <th>theme_id</th>\n",
       "      <th>num_parts</th>\n",
       "    </tr>\n",
       "  </thead>\n",
       "  <tbody>\n",
       "    <tr>\n",
       "      <th>8786</th>\n",
       "      <td>65081-1</td>\n",
       "      <td>R2-D2 / C-3PO Droid Collectors Set</td>\n",
       "      <td>2002</td>\n",
       "      <td>18</td>\n",
       "      <td>1</td>\n",
       "    </tr>\n",
       "    <tr>\n",
       "      <th>12051</th>\n",
       "      <td>8000-1</td>\n",
       "      <td>Pit Droid</td>\n",
       "      <td>2000</td>\n",
       "      <td>18</td>\n",
       "      <td>223</td>\n",
       "    </tr>\n",
       "    <tr>\n",
       "      <th>12058</th>\n",
       "      <td>8001-1</td>\n",
       "      <td>Battle Droid</td>\n",
       "      <td>2000</td>\n",
       "      <td>18</td>\n",
       "      <td>336</td>\n",
       "    </tr>\n",
       "    <tr>\n",
       "      <th>12066</th>\n",
       "      <td>8002-1</td>\n",
       "      <td>Destroyer Droid</td>\n",
       "      <td>2000</td>\n",
       "      <td>18</td>\n",
       "      <td>567</td>\n",
       "    </tr>\n",
       "    <tr>\n",
       "      <th>12071</th>\n",
       "      <td>8007-1</td>\n",
       "      <td>C-3PO</td>\n",
       "      <td>2001</td>\n",
       "      <td>18</td>\n",
       "      <td>339</td>\n",
       "    </tr>\n",
       "    <tr>\n",
       "      <th>12072</th>\n",
       "      <td>8008-1</td>\n",
       "      <td>Stormtrooper</td>\n",
       "      <td>2001</td>\n",
       "      <td>18</td>\n",
       "      <td>360</td>\n",
       "    </tr>\n",
       "    <tr>\n",
       "      <th>12073</th>\n",
       "      <td>8009-1</td>\n",
       "      <td>R2-D2</td>\n",
       "      <td>2002</td>\n",
       "      <td>18</td>\n",
       "      <td>239</td>\n",
       "    </tr>\n",
       "    <tr>\n",
       "      <th>12074</th>\n",
       "      <td>8010-1</td>\n",
       "      <td>Darth Vader</td>\n",
       "      <td>2002</td>\n",
       "      <td>18</td>\n",
       "      <td>388</td>\n",
       "    </tr>\n",
       "    <tr>\n",
       "      <th>12081</th>\n",
       "      <td>8011-1</td>\n",
       "      <td>Jango Fett</td>\n",
       "      <td>2002</td>\n",
       "      <td>18</td>\n",
       "      <td>425</td>\n",
       "    </tr>\n",
       "    <tr>\n",
       "      <th>12083</th>\n",
       "      <td>8012-1</td>\n",
       "      <td>Super Battle Droid</td>\n",
       "      <td>2002</td>\n",
       "      <td>18</td>\n",
       "      <td>378</td>\n",
       "    </tr>\n",
       "    <tr>\n",
       "      <th>15273</th>\n",
       "      <td>K8008-1</td>\n",
       "      <td>Darth Vader / Stormtrooper Kit</td>\n",
       "      <td>2002</td>\n",
       "      <td>18</td>\n",
       "      <td>0</td>\n",
       "    </tr>\n",
       "  </tbody>\n",
       "</table>\n",
       "</div>"
      ],
      "text/plain": [
       "       set_num                                name  year  theme_id  num_parts\n",
       "8786   65081-1  R2-D2 / C-3PO Droid Collectors Set  2002        18          1\n",
       "12051   8000-1                           Pit Droid  2000        18        223\n",
       "12058   8001-1                        Battle Droid  2000        18        336\n",
       "12066   8002-1                     Destroyer Droid  2000        18        567\n",
       "12071   8007-1                               C-3PO  2001        18        339\n",
       "12072   8008-1                        Stormtrooper  2001        18        360\n",
       "12073   8009-1                               R2-D2  2002        18        239\n",
       "12074   8010-1                         Darth Vader  2002        18        388\n",
       "12081   8011-1                          Jango Fett  2002        18        425\n",
       "12083   8012-1                  Super Battle Droid  2002        18        378\n",
       "15273  K8008-1      Darth Vader / Stormtrooper Kit  2002        18          0"
      ]
     },
     "execution_count": 94,
     "metadata": {},
     "output_type": "execute_result"
    }
   ],
   "source": [
    "sets_df[sets_df.theme_id==18]"
   ]
  },
  {
   "cell_type": "code",
   "execution_count": 96,
   "metadata": {
    "colab": {},
    "colab_type": "code",
    "id": "qBhckawNIqvN",
    "scrolled": true
   },
   "outputs": [
    {
     "data": {
      "text/html": [
       "<div>\n",
       "<style scoped>\n",
       "    .dataframe tbody tr th:only-of-type {\n",
       "        vertical-align: middle;\n",
       "    }\n",
       "\n",
       "    .dataframe tbody tr th {\n",
       "        vertical-align: top;\n",
       "    }\n",
       "\n",
       "    .dataframe thead th {\n",
       "        text-align: right;\n",
       "    }\n",
       "</style>\n",
       "<table border=\"1\" class=\"dataframe\">\n",
       "  <thead>\n",
       "    <tr style=\"text-align: right;\">\n",
       "      <th></th>\n",
       "      <th>set_num</th>\n",
       "      <th>name</th>\n",
       "      <th>year</th>\n",
       "      <th>theme_id</th>\n",
       "      <th>num_parts</th>\n",
       "    </tr>\n",
       "  </thead>\n",
       "  <tbody>\n",
       "    <tr>\n",
       "      <th>11013</th>\n",
       "      <td>75023-1</td>\n",
       "      <td>Star Wars Advent Calendar 2013</td>\n",
       "      <td>2013</td>\n",
       "      <td>209</td>\n",
       "      <td>254</td>\n",
       "    </tr>\n",
       "    <tr>\n",
       "      <th>11046</th>\n",
       "      <td>75056-1</td>\n",
       "      <td>Star Wars Advent Calendar 2014</td>\n",
       "      <td>2014</td>\n",
       "      <td>209</td>\n",
       "      <td>273</td>\n",
       "    </tr>\n",
       "    <tr>\n",
       "      <th>11080</th>\n",
       "      <td>75097-1</td>\n",
       "      <td>Star Wars Advent Calendar 2015</td>\n",
       "      <td>2015</td>\n",
       "      <td>209</td>\n",
       "      <td>291</td>\n",
       "    </tr>\n",
       "    <tr>\n",
       "      <th>11131</th>\n",
       "      <td>75146-1</td>\n",
       "      <td>Star Wars Advent Calendar 2016</td>\n",
       "      <td>2016</td>\n",
       "      <td>209</td>\n",
       "      <td>282</td>\n",
       "    </tr>\n",
       "    <tr>\n",
       "      <th>11173</th>\n",
       "      <td>75184-1</td>\n",
       "      <td>Star Wars Advent Calendar 2017</td>\n",
       "      <td>2017</td>\n",
       "      <td>209</td>\n",
       "      <td>309</td>\n",
       "    </tr>\n",
       "    <tr>\n",
       "      <th>11206</th>\n",
       "      <td>75213-1</td>\n",
       "      <td>Star Wars Advent Calendar 2018</td>\n",
       "      <td>2018</td>\n",
       "      <td>209</td>\n",
       "      <td>307</td>\n",
       "    </tr>\n",
       "    <tr>\n",
       "      <th>11245</th>\n",
       "      <td>75245-1</td>\n",
       "      <td>Star Wars Advent Calendar 2019</td>\n",
       "      <td>2019</td>\n",
       "      <td>209</td>\n",
       "      <td>280</td>\n",
       "    </tr>\n",
       "    <tr>\n",
       "      <th>11281</th>\n",
       "      <td>75279-1</td>\n",
       "      <td>Star Wars Advent Calendar 2020</td>\n",
       "      <td>2020</td>\n",
       "      <td>209</td>\n",
       "      <td>312</td>\n",
       "    </tr>\n",
       "    <tr>\n",
       "      <th>12019</th>\n",
       "      <td>7958-1</td>\n",
       "      <td>Star Wars Advent Calendar 2011</td>\n",
       "      <td>2011</td>\n",
       "      <td>209</td>\n",
       "      <td>267</td>\n",
       "    </tr>\n",
       "    <tr>\n",
       "      <th>14352</th>\n",
       "      <td>9509-1</td>\n",
       "      <td>Star Wars Advent Calendar 2012</td>\n",
       "      <td>2012</td>\n",
       "      <td>209</td>\n",
       "      <td>235</td>\n",
       "    </tr>\n",
       "  </tbody>\n",
       "</table>\n",
       "</div>"
      ],
      "text/plain": [
       "       set_num                            name  year  theme_id  num_parts\n",
       "11013  75023-1  Star Wars Advent Calendar 2013  2013       209        254\n",
       "11046  75056-1  Star Wars Advent Calendar 2014  2014       209        273\n",
       "11080  75097-1  Star Wars Advent Calendar 2015  2015       209        291\n",
       "11131  75146-1  Star Wars Advent Calendar 2016  2016       209        282\n",
       "11173  75184-1  Star Wars Advent Calendar 2017  2017       209        309\n",
       "11206  75213-1  Star Wars Advent Calendar 2018  2018       209        307\n",
       "11245  75245-1  Star Wars Advent Calendar 2019  2019       209        280\n",
       "11281  75279-1  Star Wars Advent Calendar 2020  2020       209        312\n",
       "12019   7958-1  Star Wars Advent Calendar 2011  2011       209        267\n",
       "14352   9509-1  Star Wars Advent Calendar 2012  2012       209        235"
      ]
     },
     "execution_count": 96,
     "metadata": {},
     "output_type": "execute_result"
    }
   ],
   "source": [
    "sets_df[sets_df.theme_id==209]"
   ]
  },
  {
   "cell_type": "code",
   "execution_count": 97,
   "metadata": {
    "colab": {},
    "colab_type": "code",
    "id": "aqt07DSTIqvP",
    "scrolled": true
   },
   "outputs": [
    {
     "data": {
      "text/html": [
       "<div>\n",
       "<style scoped>\n",
       "    .dataframe tbody tr th:only-of-type {\n",
       "        vertical-align: middle;\n",
       "    }\n",
       "\n",
       "    .dataframe tbody tr th {\n",
       "        vertical-align: top;\n",
       "    }\n",
       "\n",
       "    .dataframe thead th {\n",
       "        text-align: right;\n",
       "    }\n",
       "</style>\n",
       "<table border=\"1\" class=\"dataframe\">\n",
       "  <thead>\n",
       "    <tr style=\"text-align: right;\">\n",
       "      <th></th>\n",
       "      <th>set_num</th>\n",
       "      <th>name</th>\n",
       "      <th>year</th>\n",
       "      <th>theme_id</th>\n",
       "      <th>num_parts</th>\n",
       "    </tr>\n",
       "  </thead>\n",
       "  <tbody>\n",
       "    <tr>\n",
       "      <th>850</th>\n",
       "      <td>11912-1</td>\n",
       "      <td>Star Wars: Build Your Own Adventure</td>\n",
       "      <td>2016</td>\n",
       "      <td>158</td>\n",
       "      <td>73</td>\n",
       "    </tr>\n",
       "    <tr>\n",
       "      <th>855</th>\n",
       "      <td>11920-1</td>\n",
       "      <td>Parts for Star Wars Build Your Own Adventure: ...</td>\n",
       "      <td>2019</td>\n",
       "      <td>158</td>\n",
       "      <td>70</td>\n",
       "    </tr>\n",
       "    <tr>\n",
       "      <th>1717</th>\n",
       "      <td>20006-1</td>\n",
       "      <td>Clone Turbo Tank - Mini</td>\n",
       "      <td>2008</td>\n",
       "      <td>158</td>\n",
       "      <td>64</td>\n",
       "    </tr>\n",
       "    <tr>\n",
       "      <th>1728</th>\n",
       "      <td>20007-1</td>\n",
       "      <td>Republic Attack Cruiser - Mini</td>\n",
       "      <td>2009</td>\n",
       "      <td>158</td>\n",
       "      <td>84</td>\n",
       "    </tr>\n",
       "    <tr>\n",
       "      <th>1738</th>\n",
       "      <td>20009-1</td>\n",
       "      <td>AT-TE Walker - Mini</td>\n",
       "      <td>2009</td>\n",
       "      <td>158</td>\n",
       "      <td>94</td>\n",
       "    </tr>\n",
       "    <tr>\n",
       "      <th>...</th>\n",
       "      <td>...</td>\n",
       "      <td>...</td>\n",
       "      <td>...</td>\n",
       "      <td>...</td>\n",
       "      <td>...</td>\n",
       "    </tr>\n",
       "    <tr>\n",
       "      <th>15686</th>\n",
       "      <td>VP-4</td>\n",
       "      <td>Star Wars Co-Pack of 7101 7111 and 7171</td>\n",
       "      <td>2000</td>\n",
       "      <td>158</td>\n",
       "      <td>0</td>\n",
       "    </tr>\n",
       "    <tr>\n",
       "      <th>15689</th>\n",
       "      <td>VP-8</td>\n",
       "      <td>Star Wars Co-Pack of 7130 and 7150</td>\n",
       "      <td>2000</td>\n",
       "      <td>158</td>\n",
       "      <td>0</td>\n",
       "    </tr>\n",
       "    <tr>\n",
       "      <th>15707</th>\n",
       "      <td>XWING-1</td>\n",
       "      <td>Mini X-Wing Fighter</td>\n",
       "      <td>2019</td>\n",
       "      <td>158</td>\n",
       "      <td>60</td>\n",
       "    </tr>\n",
       "    <tr>\n",
       "      <th>15708</th>\n",
       "      <td>XWING-2</td>\n",
       "      <td>X-Wing Trench Run</td>\n",
       "      <td>2019</td>\n",
       "      <td>158</td>\n",
       "      <td>52</td>\n",
       "    </tr>\n",
       "    <tr>\n",
       "      <th>15709</th>\n",
       "      <td>YODACHRON-1</td>\n",
       "      <td>Yoda Chronicles Promotional Set</td>\n",
       "      <td>2013</td>\n",
       "      <td>158</td>\n",
       "      <td>413</td>\n",
       "    </tr>\n",
       "  </tbody>\n",
       "</table>\n",
       "<p>753 rows × 5 columns</p>\n",
       "</div>"
      ],
      "text/plain": [
       "           set_num                                               name  year  \\\n",
       "850        11912-1                Star Wars: Build Your Own Adventure  2016   \n",
       "855        11920-1  Parts for Star Wars Build Your Own Adventure: ...  2019   \n",
       "1717       20006-1                            Clone Turbo Tank - Mini  2008   \n",
       "1728       20007-1                     Republic Attack Cruiser - Mini  2009   \n",
       "1738       20009-1                                AT-TE Walker - Mini  2009   \n",
       "...            ...                                                ...   ...   \n",
       "15686         VP-4            Star Wars Co-Pack of 7101 7111 and 7171  2000   \n",
       "15689         VP-8                 Star Wars Co-Pack of 7130 and 7150  2000   \n",
       "15707      XWING-1                                Mini X-Wing Fighter  2019   \n",
       "15708      XWING-2                                  X-Wing Trench Run  2019   \n",
       "15709  YODACHRON-1                    Yoda Chronicles Promotional Set  2013   \n",
       "\n",
       "       theme_id  num_parts  \n",
       "850         158         73  \n",
       "855         158         70  \n",
       "1717        158         64  \n",
       "1728        158         84  \n",
       "1738        158         94  \n",
       "...         ...        ...  \n",
       "15686       158          0  \n",
       "15689       158          0  \n",
       "15707       158         60  \n",
       "15708       158         52  \n",
       "15709       158        413  \n",
       "\n",
       "[753 rows x 5 columns]"
      ]
     },
     "execution_count": 97,
     "metadata": {},
     "output_type": "execute_result"
    }
   ],
   "source": [
    "sets_df[sets_df.theme_id==158]\n"
   ]
  },
  {
   "cell_type": "markdown",
   "metadata": {
    "colab_type": "text",
    "id": "SmTCXWKKIqvQ"
   },
   "source": [
    "### Merging (i.e., Combining) DataFrames based on a Key\n"
   ]
  },
  {
   "cell_type": "code",
   "execution_count": 98,
   "metadata": {
    "colab": {},
    "colab_type": "code",
    "id": "esKQULhcIqvR"
   },
   "outputs": [
    {
     "data": {
      "text/html": [
       "<div>\n",
       "<style scoped>\n",
       "    .dataframe tbody tr th:only-of-type {\n",
       "        vertical-align: middle;\n",
       "    }\n",
       "\n",
       "    .dataframe tbody tr th {\n",
       "        vertical-align: top;\n",
       "    }\n",
       "\n",
       "    .dataframe thead th {\n",
       "        text-align: right;\n",
       "    }\n",
       "</style>\n",
       "<table border=\"1\" class=\"dataframe\">\n",
       "  <thead>\n",
       "    <tr style=\"text-align: right;\">\n",
       "      <th></th>\n",
       "      <th>id</th>\n",
       "      <th>set_count</th>\n",
       "    </tr>\n",
       "  </thead>\n",
       "  <tbody>\n",
       "    <tr>\n",
       "      <th>0</th>\n",
       "      <td>158</td>\n",
       "      <td>753</td>\n",
       "    </tr>\n",
       "    <tr>\n",
       "      <th>1</th>\n",
       "      <td>501</td>\n",
       "      <td>656</td>\n",
       "    </tr>\n",
       "    <tr>\n",
       "      <th>2</th>\n",
       "      <td>494</td>\n",
       "      <td>398</td>\n",
       "    </tr>\n",
       "    <tr>\n",
       "      <th>3</th>\n",
       "      <td>435</td>\n",
       "      <td>356</td>\n",
       "    </tr>\n",
       "    <tr>\n",
       "      <th>4</th>\n",
       "      <td>503</td>\n",
       "      <td>329</td>\n",
       "    </tr>\n",
       "  </tbody>\n",
       "</table>\n",
       "</div>"
      ],
      "text/plain": [
       "    id  set_count\n",
       "0  158        753\n",
       "1  501        656\n",
       "2  494        398\n",
       "3  435        356\n",
       "4  503        329"
      ]
     },
     "execution_count": 98,
     "metadata": {},
     "output_type": "execute_result"
    }
   ],
   "source": [
    "set_theme_count=pd.DataFrame({'id':set_theme_count.index, 'set_count':set_theme_count.values})\n",
    "set_theme_count.head()"
   ]
  },
  {
   "cell_type": "code",
   "execution_count": 101,
   "metadata": {
    "colab": {},
    "colab_type": "code",
    "id": "i0LobgIvIqvT"
   },
   "outputs": [
    {
     "data": {
      "text/html": [
       "<div>\n",
       "<style scoped>\n",
       "    .dataframe tbody tr th:only-of-type {\n",
       "        vertical-align: middle;\n",
       "    }\n",
       "\n",
       "    .dataframe tbody tr th {\n",
       "        vertical-align: top;\n",
       "    }\n",
       "\n",
       "    .dataframe thead th {\n",
       "        text-align: right;\n",
       "    }\n",
       "</style>\n",
       "<table border=\"1\" class=\"dataframe\">\n",
       "  <thead>\n",
       "    <tr style=\"text-align: right;\">\n",
       "      <th></th>\n",
       "      <th>id</th>\n",
       "      <th>set_count</th>\n",
       "      <th>name</th>\n",
       "      <th>parent_id</th>\n",
       "    </tr>\n",
       "  </thead>\n",
       "  <tbody>\n",
       "    <tr>\n",
       "      <th>0</th>\n",
       "      <td>158</td>\n",
       "      <td>753</td>\n",
       "      <td>Star Wars</td>\n",
       "      <td>NaN</td>\n",
       "    </tr>\n",
       "    <tr>\n",
       "      <th>1</th>\n",
       "      <td>501</td>\n",
       "      <td>656</td>\n",
       "      <td>Gear</td>\n",
       "      <td>NaN</td>\n",
       "    </tr>\n",
       "    <tr>\n",
       "      <th>2</th>\n",
       "      <td>494</td>\n",
       "      <td>398</td>\n",
       "      <td>Friends</td>\n",
       "      <td>NaN</td>\n",
       "    </tr>\n",
       "  </tbody>\n",
       "</table>\n",
       "</div>"
      ],
      "text/plain": [
       "    id  set_count       name  parent_id\n",
       "0  158        753  Star Wars        NaN\n",
       "1  501        656       Gear        NaN\n",
       "2  494        398    Friends        NaN"
      ]
     },
     "execution_count": 101,
     "metadata": {},
     "output_type": "execute_result"
    }
   ],
   "source": [
    "merged_df = pd.merge(set_theme_count, themes_df, on='id')\n",
    "merged_df[:3]"
   ]
  },
  {
   "cell_type": "code",
   "execution_count": 103,
   "metadata": {
    "colab": {},
    "colab_type": "code",
    "id": "I7UMP7VXIqvU"
   },
   "outputs": [
    {
     "data": {
      "text/plain": [
       "<BarContainer object of 10 artists>"
      ]
     },
     "execution_count": 103,
     "metadata": {},
     "output_type": "execute_result"
    },
    {
     "data": {
      "image/png": "[encoded data removed]",
      "text/plain": [
       "<Figure size 1400x800 with 1 Axes>"
      ]
     },
     "metadata": {},
     "output_type": "display_data"
    }
   ],
   "source": [
    "plt.figure(figsize=(14,8))\n",
    "plt.xticks(fontsize=14, rotation=45)\n",
    "plt.yticks(fontsize=14)\n",
    "plt.ylabel('Nr of Sets', fontsize=14)\n",
    "plt.xlabel('Theme Name', fontsize=14)\n",
    "plt.bar(merged_df.name[:10],merged_df.set_count[:10])"
   ]
  },
  {
   "cell_type": "code",
   "execution_count": null,
   "metadata": {},
   "outputs": [],
   "source": []
  }
 ],
 "metadata": {
  "colab": {
   "name": "Lego Analysis for Course (start).ipynb",
   "provenance": []
  },
  "kernelspec": {
   "display_name": "Python 3 (ipykernel)",
   "language": "python",
   "name": "python3"
  },
  "language_info": {
   "codemirror_mode": {
    "name": "ipython",
    "version": 3
   },
   "file_extension": ".py",
   "mimetype": "text/x-python",
   "name": "python",
   "nbconvert_exporter": "python",
   "pygments_lexer": "ipython3",
   "version": "3.11.1"
  }
 },
 "nbformat": 4,
 "nbformat_minor": 1
}
